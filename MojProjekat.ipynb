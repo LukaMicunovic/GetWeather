{
 "cells": [
  {
   "cell_type": "code",
   "execution_count": 2,
   "id": "d0fb9f9e",
   "metadata": {},
   "outputs": [
    {
     "name": "stdout",
     "output_type": "stream",
     "text": [
      "Unesite grad: madrid\n"
     ]
    },
    {
     "data": {
      "image/png": "[encoded data removed]",
      "text/plain": [
       "<Figure size 432x288 with 1 Axes>"
      ]
     },
     "metadata": {
      "needs_background": "light"
     },
     "output_type": "display_data"
    },
    {
     "name": "stdout",
     "output_type": "stream",
     "text": [
      "Trenutna temperatura: 36.43 stepeni\n",
      "Prognoza za danas: местимични облаци\n",
      "Vlažnost vazduha je: 19 %\n",
      "Brzina vetra je: 2.57 m/s\n",
      "Atmosferski pritisak je: 1018 hPa\n",
      "Geografska širina: 40.4165\n",
      "Geografska dužina: -3.7026\n",
      "\n"
     ]
    }
   ],
   "source": [
    "import requests\n",
    "from pprint import pprint\n",
    "import json\n",
    "import matplotlib.pyplot as plt\n",
    "import numpy as np\n",
    "import wikipedia\n",
    "\n",
    "\n",
    "KljucApi = 'f24ad1970f5a52b948fea992ec4b00ef'\n",
    "\n",
    "Grad = input(\"Unesite grad: \")\n",
    "\n",
    "sajtzaprognozu = \"http://api.openweathermap.org/data/2.5/weather?appid=\" + KljucApi + \"&lang=sr\" +\"&q=\" + Grad + \"&units=metric\"\n",
    "\n",
    "weather_data = requests.get(sajtzaprognozu).json()\n",
    "\n",
    "fig = plt.figure()\n",
    "ax = fig.add_axes([0,0,1,1])\n",
    "Temp = ['Min.Temp u okruženju', 'Izmerena Temp', 'Max.Temp u okruženju', 'Subjektivni osećaj']\n",
    "Bar = [weather_data['main']['temp_min'],weather_data['main']['temp'],weather_data['main']['temp_max'],weather_data['main']['feels_like']]\n",
    "ax.bar(Temp,Bar)\n",
    "plt.show()\n",
    "\n",
    "\n",
    "print('Trenutna temperatura: ' + str(weather_data['main']['temp']) + ' stepeni')\n",
    "print('Prognoza za danas: ' + weather_data['weather'][0]['description'])\n",
    "print('Vlažnost vazduha je: ' + str(weather_data['main']['humidity']) + ' %')\n",
    "print('Brzina vetra je: ' + str(weather_data['wind']['speed']) + ' m/s')\n",
    "print('Atmosferski pritisak je: ' + str(weather_data['main']['pressure']) + ' hPa')\n",
    "print('Geografska širina: ' + str(weather_data['coord']['lat']))\n",
    "print('Geografska dužina: ' + str(weather_data['coord']['lon']) + \"\\n\")\n"
   ]
  },
  {
   "cell_type": "code",
   "execution_count": null,
   "id": "803b39da",
   "metadata": {},
   "outputs": [],
   "source": []
  },
  {
   "cell_type": "code",
   "execution_count": null,
   "id": "53dda735",
   "metadata": {},
   "outputs": [],
   "source": [
    "\n"
   ]
  },
  {
   "cell_type": "code",
   "execution_count": null,
   "id": "2a1dfd5a",
   "metadata": {},
   "outputs": [],
   "source": []
  },
  {
   "cell_type": "code",
   "execution_count": null,
   "id": "e7e8fc63",
   "metadata": {},
   "outputs": [],
   "source": []
  },
  {
   "cell_type": "code",
   "execution_count": null,
   "id": "034e956c",
   "metadata": {},
   "outputs": [],
   "source": []
  },
  {
   "cell_type": "code",
   "execution_count": null,
   "id": "0e28993c",
   "metadata": {},
   "outputs": [],
   "source": []
  },
  {
   "cell_type": "code",
   "execution_count": null,
   "id": "1feac2d4",
   "metadata": {},
   "outputs": [],
   "source": []
  },
  {
   "cell_type": "code",
   "execution_count": null,
   "id": "e9aab0eb",
   "metadata": {},
   "outputs": [],
   "source": []
  },
  {
   "cell_type": "code",
   "execution_count": null,
   "id": "20361071",
   "metadata": {},
   "outputs": [],
   "source": []
  },
  {
   "cell_type": "code",
   "execution_count": null,
   "id": "e9adfa29",
   "metadata": {},
   "outputs": [],
   "source": []
  },
  {
   "cell_type": "code",
   "execution_count": null,
   "id": "54d81852",
   "metadata": {},
   "outputs": [],
   "source": []
  },
  {
   "cell_type": "code",
   "execution_count": null,
   "id": "fa5a839c",
   "metadata": {},
   "outputs": [],
   "source": []
  },
  {
   "cell_type": "code",
   "execution_count": null,
   "id": "e71ff05a",
   "metadata": {},
   "outputs": [],
   "source": []
  },
  {
   "cell_type": "code",
   "execution_count": null,
   "id": "e5aeffa2",
   "metadata": {},
   "outputs": [],
   "source": []
  },
  {
   "cell_type": "code",
   "execution_count": null,
   "id": "1854b8b0",
   "metadata": {},
   "outputs": [],
   "source": []
  },
  {
   "cell_type": "code",
   "execution_count": null,
   "id": "f952bf0b",
   "metadata": {},
   "outputs": [],
   "source": []
  },
  {
   "cell_type": "code",
   "execution_count": null,
   "id": "5f2ca3fe",
   "metadata": {},
   "outputs": [],
   "source": []
  },
  {
   "cell_type": "code",
   "execution_count": null,
   "id": "1ac9c2ea",
   "metadata": {},
   "outputs": [],
   "source": []
  }
 ],
 "metadata": {
  "kernelspec": {
   "display_name": "Python 3 (ipykernel)",
   "language": "python",
   "name": "python3"
  },
  "language_info": {
   "codemirror_mode": {
    "name": "ipython",
    "version": 3
   },
   "file_extension": ".py",
   "mimetype": "text/x-python",
   "name": "python",
   "nbconvert_exporter": "python",
   "pygments_lexer": "ipython3",
   "version": "3.9.12"
  }
 },
 "nbformat": 4,
 "nbformat_minor": 5
}
